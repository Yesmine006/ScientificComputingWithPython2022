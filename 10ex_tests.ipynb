{
  "cells": [
    {
      "cell_type": "markdown",
      "metadata": {
        "id": "5W9cfhMwQxnb"
      },
      "source": [
        "1\\. **Hurricanes per Year**\n",
        "\n",
        "The number of hurricanes in 2005 was 15. The historic average is 6.3. Is this number signficantly different?\n",
        "- Assume the number of hurricanes is random, i.e. follows the Poisson distribution.\n",
        "- Assume as statistically significant a probability that has a Z score of 3 or larger with respect a normal distribution.\n",
        "\n",
        "**Hint**: compute the probability that in a single year are observed 15 or more hurricances."
      ]
    },
    {
      "cell_type": "code",
      "source": [
        "import numpy as np\n",
        "import matplotlib.pyplot as plt\n",
        "from scipy import stats "
      ],
      "metadata": {
        "id": "fZaABf9lMv7u"
      },
      "execution_count": null,
      "outputs": []
    },
    {
      "cell_type": "code",
      "execution_count": null,
      "metadata": {
        "id": "sg5F9b8GQxnh",
        "colab": {
          "base_uri": "https://localhost:8080/"
        },
        "outputId": "cb07abc1-c2f1-4ff2-bf7d-9ce14f115da8"
      },
      "outputs": [
        {
          "output_type": "stream",
          "name": "stdout",
          "text": [
            "the probability that in a single year are observed 15 or more hurricances is: 0.002217122790073134\n"
          ]
        }
      ],
      "source": [
        "x0=15\n",
        "mu=6.3\n",
        "\n",
        "#the probability that in a single year are observed 15 or more hurricances.\n",
        "#p(x>=15) = p(x=15)+p(x>15) = p(x=15)+1-p(x<=15)\n",
        "p = stats.poisson.pmf(x0, mu)+ 1 - stats.poisson.cdf(x0, mu) \n",
        "print('the probability that in a single year are observed 15 or more hurricances is:',p)"
      ]
    },
    {
      "cell_type": "code",
      "source": [
        "#probability that has a Z score of 3 or larger with respect a normal distribution\n",
        "p_3 = 1. - stats.norm.cdf(3)\n",
        "print('The probability that has a Z score of 3 or larger with respect a normal distribution is ',p_3)"
      ],
      "metadata": {
        "colab": {
          "base_uri": "https://localhost:8080/"
        },
        "id": "elXQOILxojp4",
        "outputId": "9487169d-0953-4904-d0b2-c48d730a1f4e"
      },
      "execution_count": null,
      "outputs": [
        {
          "output_type": "stream",
          "name": "stdout",
          "text": [
            "The probability that has a Z score of 3 or larger with respect a normal distribution is  0.0013498980316301035\n"
          ]
        }
      ]
    },
    {
      "cell_type": "markdown",
      "source": [
        "The probability that in a single year are observed 15 or more hurricances is larger than the probability that a Z score of 3 or larger with respect a normal distribution so we can retain the null hypothesis.\n"
      ],
      "metadata": {
        "id": "vSQME0Hcmjz3"
      }
    },
    {
      "cell_type": "markdown",
      "metadata": {
        "id": "LVvhG823Qxni"
      },
      "source": [
        "2\\. **Pairwise t-test**\n",
        "\n",
        "In an experiment, a group of 10 individuals agreed to participate in a study of blood pressure changes following exposure to halogen lighting. Resting systolic blood pressure was recorded for each individual. The participants were then exposed to 20 minutes in a room lit only by halogen lamps. A post-exposure systolic blood pressure reading was recorded for each individual. The results are presented in the following data set:\n",
        "\n",
        "```python\n",
        "pre = np.array([120, 132, 120, 110, 115, 128, 120, 112, 110, 100])\n",
        "post = np.array([140, 156, 145, 130, 117, 148, 137, 119, 127, 135])\n",
        "```\n",
        "\n",
        "Determine whether the change in blood pressures within our sample was statistically significant.\n",
        "\n",
        "**Hint:**\n",
        "in this case, the Student's $t$-test should be performed to compare the two datasets.\n",
        "Use the following test statistics:\n",
        "\n",
        "$$T = \\frac{\\bar{x}_1 - \\bar{x}_2}{\\sigma \\sqrt{\\frac{2}{n}}}$$\n",
        "\n",
        "and \n",
        "\n",
        "$$\\sigma = \\sqrt{\\frac{\\sigma_1^2 + \\sigma_2^2}{2}}$$"
      ]
    },
    {
      "cell_type": "code",
      "execution_count": null,
      "metadata": {
        "id": "Bo57kvZyQxnj",
        "colab": {
          "base_uri": "https://localhost:8080/"
        },
        "outputId": "903c6a3f-c100-4688-b06e-52f7a3b9f8c5"
      },
      "outputs": [
        {
          "output_type": "stream",
          "name": "stdout",
          "text": [
            "T = -3.786997938137629\n",
            "p-value = 0.004302464132864604\n"
          ]
        }
      ],
      "source": [
        "pre = np.array([120, 132, 120, 110, 115, 128, 120, 112, 110, 100])\n",
        "sigma_pre = np.sqrt(np.var(pre, ddof=1))\n",
        "mean_pre=np.mean(pre)\n",
        "\n",
        "post = np.array([140, 156, 145, 130, 117, 148, 137, 119, 127, 135])\n",
        "sigma_post = np.sqrt(np.var(post, ddof=1))\n",
        "mean_post=np.mean(post)\n",
        "\n",
        "sigma=np.sqrt( ( (sigma_pre**2) + (sigma_post**2) ) / 2 )\n",
        "\n",
        "n=len(pre)\n",
        "\n",
        "# the test statistics\n",
        "T = (mean_pre - mean_post) / (sigma*np.sqrt(2/n))\n",
        "print(\"T =\", T)\n",
        "pvalue = stats.t.cdf(T, n - 1) + (1. - stats.t.cdf(-T, n - 1))\n",
        "print(\"p-value =\", pvalue)"
      ]
    },
    {
      "cell_type": "markdown",
      "source": [
        "p-value < 0.05 so we reject the null hypothesis. Hence, the change in blood pressures within our samples is not statistically significant."
      ],
      "metadata": {
        "id": "O51UQ4rirGGI"
      }
    },
    {
      "cell_type": "markdown",
      "metadata": {
        "id": "fz2McAZSQxnj"
      },
      "source": [
        "3\\. **Curve fitting of temperature in Alaska** \n",
        "\n",
        "The temperature extremes in Alaska for each month, starting in January, are given by (in degrees Celcius):\n",
        "\n",
        "max:  `17,  19,  21,  28,  33,  38, 37,  37,  31,  23,  19,  18`\n",
        "\n",
        "min: `-62, -59, -56, -46, -32, -18, -9, -13, -25, -46, -52, -58`\n",
        "\n",
        "* Plot these temperatures.\n",
        "* Find a suitable a function that can describe min and max temperatures. \n",
        "* Fit this function to the data with `scipy.optimize.curve_fit()`.\n",
        "* Plot the result. Is the fit reasonable? If not, why?\n",
        "* Is the time offset for min and max temperatures the same within the fit accuracy?"
      ]
    },
    {
      "cell_type": "code",
      "execution_count": null,
      "metadata": {
        "id": "JEdCvYh5Qxnq",
        "colab": {
          "base_uri": "https://localhost:8080/",
          "height": 282
        },
        "outputId": "3a09fa27-b033-4b7e-e62c-13d10cee3a74"
      },
      "outputs": [
        {
          "output_type": "execute_result",
          "data": {
            "text/plain": [
              "<matplotlib.legend.Legend at 0x7f0096aea190>"
            ]
          },
          "metadata": {},
          "execution_count": 93
        },
        {
          "output_type": "display_data",
          "data": {
            "text/plain": [
              "<Figure size 432x288 with 1 Axes>"
            ],
            "image/png": "[encoded data removed]"
          },
          "metadata": {
            "needs_background": "light"
          }
        }
      ],
      "source": [
        "#Plot these temperatures.\n",
        "max=[7, 19, 21, 28, 33, 38, 37, 37, 31, 23, 19, 18]\n",
        "min=[-62, -59, -56, -46, -32, -18, -9, -13, -25, -46, -52, -58]\n",
        "months=np.arange(12)\n",
        "plt.scatter(months,max,color='r',label='maxTemp',)\n",
        "plt.scatter(months,min,color='b',label='minTemp')\n",
        "plt.legend()"
      ]
    },
    {
      "cell_type": "code",
      "source": [
        "from scipy import optimize\n",
        "\n",
        "#Find a suitable function that can describe min and max temperatures.\n",
        "def f(time,a,b,c,d):\n",
        "    return a*np.sin(b*time+c)+d\n",
        "\n",
        "#Fit this function to the data with scipy.optimize.curve_fit().\n",
        "(a_max,b_max,c_max,d_max),cov=optimize.curve_fit(f,months,max)\n",
        "plt.scatter(months,max,color='r',label='maxTemp')\n",
        "plt.plot(months, f(months,a_max,b_max,c_max,d_max), color='yellow', label='max_fitted function')\n",
        "\n",
        "(a_min,b_min,c_min,d_min),cov=optimize.curve_fit(f,months,min)\n",
        "plt.scatter(months,min,color='b',label='minTemp')\n",
        "plt.plot(months, f(months,a_min,b_min,c_min,d_min), color='green', label='min_fitted function')\n",
        "plt.legend()"
      ],
      "metadata": {
        "colab": {
          "base_uri": "https://localhost:8080/",
          "height": 282
        },
        "id": "F5lxruzrOhDw",
        "outputId": "5706929f-0d49-4810-cc6a-25aa5b9340ee"
      },
      "execution_count": null,
      "outputs": [
        {
          "output_type": "execute_result",
          "data": {
            "text/plain": [
              "<matplotlib.legend.Legend at 0x7f0095ed1160>"
            ]
          },
          "metadata": {},
          "execution_count": 94
        },
        {
          "output_type": "display_data",
          "data": {
            "text/plain": [
              "<Figure size 432x288 with 1 Axes>"
            ],
            "image/png": "[encoded data removed]"
          },
          "metadata": {
            "needs_background": "light"
          }
        }
      ]
    },
    {
      "cell_type": "markdown",
      "source": [
        "The plot is reassuring for the max tempreture as the function reorganizes the way data is distributed. But for the min temperatures the function the fir is not reasonable."
      ],
      "metadata": {
        "id": "jE7YpgPssHKF"
      }
    },
    {
      "cell_type": "code",
      "source": [
        "#Is the time offset for min and max temperatures the same within the fit accuracy?\n",
        "print(' The time offset for max temperatures:',c_max)\n",
        "print(' The time offset for min temperatures:',c_min)"
      ],
      "metadata": {
        "colab": {
          "base_uri": "https://localhost:8080/"
        },
        "id": "9eUqelGoR9pI",
        "outputId": "198bf175-7ed8-4e67-f3b5-7d2d31725009"
      },
      "execution_count": null,
      "outputs": [
        {
          "output_type": "stream",
          "name": "stdout",
          "text": [
            " The time offset for max temperatures: 5.502805506491661\n",
            " The time offset for min temperatures: 21.127167773485542\n"
          ]
        }
      ]
    },
    {
      "cell_type": "markdown",
      "source": [
        "The time offset for min and max temperatures is not the same within the fit accuracy"
      ],
      "metadata": {
        "id": "GqGQnpDYsY7E"
      }
    },
    {
      "cell_type": "markdown",
      "metadata": {
        "id": "4hMuhky3Qxnv"
      },
      "source": [
        "4\\. **Fit the residues**\n",
        "\n",
        "Read the `data/residuals_261.pkl` file. If you haven't got it already, download it from here:\n",
        "\n",
        "```bash\n",
        "wget https://www.dropbox.com/s/3uqleyc3wyz52tr/residuals_261.pkl -P data/\n",
        "```\n",
        "\n",
        "The feature named `residual` contains the residuals (defined as $y_i - \\hat{y}_i$) of a linear regression as a function of the independent variable `distances`.\n",
        "\n",
        "- Considering only the \"residual\" feature, create an histogram with the appropriate binning and plot it.\n",
        "- Set the appropriate Poisson uncertainty for each bin (thus, for each bin, $\\sigma_i = \\sqrt{n_i}$, where $n_i$ is the number of entries in each bin)\n",
        "- By looking at the distribution of the residuals, define an appropriate function and fit it to the histogram of the residuals\n",
        "- Perform a goodness-of-fit test. Is the p-value of the fit satisfactory?"
      ]
    },
    {
      "cell_type": "code",
      "execution_count": null,
      "metadata": {
        "id": "WRiuR-kcQxn3"
      },
      "outputs": [],
      "source": [
        "!wget https://www.dropbox.com/s/3uqleyc3wyz52tr/residuals_261.pkl -P data/"
      ]
    },
    {
      "cell_type": "code",
      "source": [
        "import pickle\n",
        "infile = open('./data/residuals_261.pkl', 'rb')\n",
        "data = pickle.load(infile)\n",
        "infile.close()\n",
        "print(data)"
      ],
      "metadata": {
        "colab": {
          "base_uri": "https://localhost:8080/"
        },
        "id": "OaRWP6GrSrXy",
        "outputId": "bf2b00e8-5b62-4107-f592-091f56419bc0"
      },
      "execution_count": null,
      "outputs": [
        {
          "output_type": "stream",
          "name": "stdout",
          "text": [
            "{'residuals': array([ 1.1       , -1.95      , -7.2       , ...,  0.08333333,\n",
            "        0.16666667,  0.08333333]), 'distances': array([16. ,  6.3,  3.4, ...,  1.7, 19.1,  2.6])}\n"
          ]
        }
      ]
    },
    {
      "cell_type": "code",
      "source": [
        "#Considering only the \"residual\" feature, create an histogram with the appropriate binning and plot it.\n",
        "residuals=data.item()['residuals']\n",
        "h, bins, _ = plt.hist(residuals, bins=100, range=(residuals.min(),residuals.max()))"
      ],
      "metadata": {
        "colab": {
          "base_uri": "https://localhost:8080/",
          "height": 266
        },
        "id": "dyGh0aQOTt00",
        "outputId": "8fc2cb03-49cd-45d0-f6af-3a493eefebd3"
      },
      "execution_count": null,
      "outputs": [
        {
          "output_type": "display_data",
          "data": {
            "text/plain": [
              "<Figure size 432x288 with 1 Axes>"
            ],
            "image/png": "[encoded data removed]"
          },
          "metadata": {
            "needs_background": "light"
          }
        }
      ]
    },
    {
      "cell_type": "code",
      "source": [
        "def f(x, mu, sigma):\n",
        "    num = np.exp(-(x-mu)**2 / 2 / sigma**2)\n",
        "    den = np.sqrt(2*np.pi)*sigma\n",
        "    return num/den\n",
        "\n",
        "residuals=data.item()['residuals']\n",
        "\n",
        "h, bins, _ = plt.hist(residuals, bins=100, range=(residuals.min(),residuals.max()))\n",
        "\n",
        "bin_centers = 0.5*(bins[1:]+bins[:-1])\n",
        "\n",
        "(mu,sigma),cov=optimize.curve_fit(f,bin_centers,h)\n",
        "\n",
        "\n",
        "plt.plot(bin_centers, f(bin_centers,mu,sigma), color='green', label='fitted function')\n",
        "plt.legend()"
      ],
      "metadata": {
        "colab": {
          "base_uri": "https://localhost:8080/",
          "height": 318
        },
        "id": "xHaTATaj8MR1",
        "outputId": "32e03f34-24fd-4ea8-ee03-2733b4a36257"
      },
      "execution_count": null,
      "outputs": [
        {
          "output_type": "stream",
          "name": "stderr",
          "text": [
            "/usr/local/lib/python3.8/dist-packages/scipy/optimize/minpack.py:833: OptimizeWarning: Covariance of the parameters could not be estimated\n",
            "  warnings.warn('Covariance of the parameters could not be estimated',\n"
          ]
        },
        {
          "output_type": "execute_result",
          "data": {
            "text/plain": [
              "<matplotlib.legend.Legend at 0x7f0095b7b670>"
            ]
          },
          "metadata": {},
          "execution_count": 99
        },
        {
          "output_type": "display_data",
          "data": {
            "text/plain": [
              "<Figure size 432x288 with 1 Axes>"
            ],
            "image/png": "[encoded data removed]"
          },
          "metadata": {
            "needs_background": "light"
          }
        }
      ]
    },
    {
      "cell_type": "code",
      "source": [
        "#to be able to calculate chi2 we will attribute a very small nubmber to every 0 value else we can't divide numbers on 0\n",
        "h[h==0]=1e-10\n",
        "sigma_h=np.sqrt(np.abs(h))\n",
        "\n",
        "# set the number of degrees of freedom\n",
        "ndof = len(h) - 1\n",
        "print(\"n degrees of freedom =\", ndof)\n",
        "\n",
        "# calculate the chi^2\n",
        "chi2 = np.sum( ( (h - f(bin_centers,mu,sigma) )**2 ) / sigma_h)\n",
        "print(\"chi2 =\", chi2)\n",
        "\n",
        "# calculate the p-value\n",
        "p_value = 1. - stats.chi2.cdf(chi2, ndof)\n",
        "print(\"p-value =\", p_value)"
      ],
      "metadata": {
        "colab": {
          "base_uri": "https://localhost:8080/"
        },
        "id": "ftL_qjhjSRTh",
        "outputId": "4911240a-70cb-46c7-afea-ec9a8c9eed04"
      },
      "execution_count": null,
      "outputs": [
        {
          "output_type": "stream",
          "name": "stdout",
          "text": [
            "n degrees of freedom = 99\n",
            "chi2 = 28008.166663019783\n",
            "p-value = 0.0\n"
          ]
        }
      ]
    },
    {
      "cell_type": "markdown",
      "source": [
        "p-value < 0.05 means that we reject the null hypothesis, therefore our fit function does not represents the data and the fit is not satisfactory."
      ],
      "metadata": {
        "id": "eggMt81Y7uyZ"
      }
    },
    {
      "cell_type": "markdown",
      "metadata": {
        "id": "NG8_dBPeQxn8"
      },
      "source": [
        "5\\. **Temperatures in Munich**\n",
        "\n",
        "Get the following data file:\n",
        "\n",
        "```bash\n",
        "https://www.dropbox.com/s/7gy9yjl00ymxb8h/munich_temperatures_average_with_bad_data.txt\n",
        "```\n",
        "\n",
        "which gives the temperature in Munich every day for several years.\n",
        "\n",
        "\n",
        "Fit the following function to the data:\n",
        "\n",
        "$$f(t) = a \\cos(2\\pi t + b)+c$$\n",
        "\n",
        "where $t$ is the time in years.\n",
        "\n",
        "- Make a plot of the data and the best-fit model in the range 2008 to 2012.\n",
        "\n",
        "   - What are the best-fit values of the parameters?\n",
        "\n",
        "   - What is the overall average temperature in Munich, and what are the typical daily average values predicted by the model for the coldest and hottest time of year?\n",
        "\n",
        "   - What is the meaning of the $b$ parameter, and what physical sense does it have?\n",
        "\n",
        "\n",
        "- Now fit the data with the function $g(x)$, which has 1 more parameter than $f(x)$.\n",
        "$$g(x) = a \\cos(2\\pi b t + c)+d$$\n",
        "   - What are the RSS for $f(x)$ and $g(x)$?\n",
        "   - Use the Fisher F-test to determine whether the additional parameter is motivated."
      ]
    },
    {
      "cell_type": "code",
      "execution_count": null,
      "metadata": {
        "id": "H3CASvO0Qxn_"
      },
      "outputs": [],
      "source": [
        "!wget https://www.dropbox.com/s/7gy9yjl00ymxb8h/munich_temperatures_average_with_bad_data.txt"
      ]
    },
    {
      "cell_type": "code",
      "source": [
        "def f(t,a,b,c):\n",
        "  return a*np.cos(2*np.pi*t+b)+c"
      ],
      "metadata": {
        "id": "GQi-TqYtZEUb"
      },
      "execution_count": null,
      "outputs": []
    },
    {
      "cell_type": "code",
      "source": [
        "file_name= \"./munich_temperatures_average_with_bad_data.txt\"\n",
        "data = np.loadtxt(file_name)\n",
        "\n",
        "date_2008_2012= []\n",
        "temp_2008_2012= []\n",
        "\n",
        "for date,temp in data:\n",
        "  if date >= 2008 and date <2013:\n",
        "    date_2008_2012.append(date)\n",
        "    temp_2008_2012.append(temp)\n",
        "\n",
        "date_2008_2012= np.array(date_2008_2012)\n",
        "temp_2008_2012= np.array(temp_2008_2012)"
      ],
      "metadata": {
        "id": "kdbG1zqXZVqE"
      },
      "execution_count": null,
      "outputs": []
    },
    {
      "cell_type": "code",
      "source": [
        "#Make a plot of the data and the best-fit model in the range 2008 to 2012\n",
        "(a_f,b_f,c_f),cov=optimize.curve_fit(f,date_2008_2012,temp_2008_2012)\n",
        "plt.scatter(date_2008_2012,temp_2008_2012,label='temperatures data')\n",
        "plt.plot(date_2008_2012, f(date_2008_2012,a_f,b_f,c_f), color='green', label='fitted function')\n",
        "plt.legend()"
      ],
      "metadata": {
        "colab": {
          "base_uri": "https://localhost:8080/",
          "height": 282
        },
        "id": "Gr4O-YYzZoZo",
        "outputId": "12fc9c7c-ff18-4db9-af0c-e3ec5bd2e3ca"
      },
      "execution_count": null,
      "outputs": [
        {
          "output_type": "execute_result",
          "data": {
            "text/plain": [
              "<matplotlib.legend.Legend at 0x7f0095d23c70>"
            ]
          },
          "metadata": {},
          "execution_count": 104
        },
        {
          "output_type": "display_data",
          "data": {
            "text/plain": [
              "<Figure size 432x288 with 1 Axes>"
            ],
            "image/png": "[encoded data removed]"
          },
          "metadata": {
            "needs_background": "light"
          }
        }
      ]
    },
    {
      "cell_type": "code",
      "source": [
        "Jan=date_2008_2012"
      ],
      "metadata": {
        "id": "n5u2pN-vy97I"
      },
      "execution_count": null,
      "outputs": []
    },
    {
      "cell_type": "code",
      "source": [
        "#What is the overall average temperature in Munich\n",
        "print('The overall average temperature  in Munich is: {:.2f} °C'.format(np.mean(temp_2008_2012)))\n",
        "\n",
        "#the typical daily average values predicted by the model for the coldest and hottest time of year\n",
        "print('The typical daily average values predicted by the model for the coldest time of year: {:.2f} °C'.format(f(date_2008_2012,a_f,b_f,c_f).min()))\n",
        "print('The typical daily average values predicted by the model for the coldest time of year: {:.2f} °C'.format(f(date_2008_2012,a_f,b_f,c_f).max()))\n"
      ],
      "metadata": {
        "colab": {
          "base_uri": "https://localhost:8080/"
        },
        "id": "r13WPMecx-Sg",
        "outputId": "8b2e5d28-d96f-4d86-86b6-88fad7214eb0"
      },
      "execution_count": null,
      "outputs": [
        {
          "output_type": "stream",
          "name": "stdout",
          "text": [
            "The overall average temperature  in Munich is: 9.35 °C\n",
            "The typical daily average values predicted by the model for the coldest time of year: -0.67 °C\n",
            "The typical daily average values predicted by the model for the coldest time of year: 19.37 °C\n"
          ]
        }
      ]
    },
    {
      "cell_type": "markdown",
      "source": [
        "**What is the meaning of the  b  parameter, and what physical sense does it have?**\n",
        "The b is called the phase shift or time shift. It represents a horizontal shift of the function along the x-axis, essentially determining the starting point of the oscillation. So, physically, it determines the starting point of the temperature oscillation.\n"
      ],
      "metadata": {
        "id": "aE6KJlUCz6UX"
      }
    },
    {
      "cell_type": "code",
      "source": [
        "#fit the data with function g\n",
        "def g(t,a,b,c,d):\n",
        "  return a*np.cos(2*np.pi*b*t+c)+d\n",
        "(a_g,b_g,c_g,d_g),cov=optimize.curve_fit(g,date_2008_2012,temp_2008_2012)\n",
        "plt.scatter(date_2008_2012,temp_2008_2012)\n",
        "plt.plot(date_2008_2012, g(date_2008_2012,a_g,b_g,c_g,d_g), color='green', label='fitted function')\n"
      ],
      "metadata": {
        "colab": {
          "base_uri": "https://localhost:8080/",
          "height": 282
        },
        "id": "Fffe4UT5bBKH",
        "outputId": "ffba860d-10f3-4172-f366-4e7df28a4414"
      },
      "execution_count": null,
      "outputs": [
        {
          "output_type": "execute_result",
          "data": {
            "text/plain": [
              "[<matplotlib.lines.Line2D at 0x7f00958ed460>]"
            ]
          },
          "metadata": {},
          "execution_count": 107
        },
        {
          "output_type": "display_data",
          "data": {
            "text/plain": [
              "<Figure size 432x288 with 1 Axes>"
            ],
            "image/png": "[encoded data removed]"
          },
          "metadata": {
            "needs_background": "light"
          }
        }
      ]
    },
    {
      "cell_type": "code",
      "source": [
        "ssr_f = np.sum((f(date_2008_2012,a_f,b_f,c_f)- temp_2008_2012)**2)\n",
        "ssr_g = np.sum((g(date_2008_2012,a_g,b_g,c_g,d_g) - temp_2008_2012)**2)\n",
        "print('RSS of f:',ssr_f)\n",
        "print('RSS of g:',ssr_g)"
      ],
      "metadata": {
        "colab": {
          "base_uri": "https://localhost:8080/"
        },
        "id": "8TpFOjZtcoew",
        "outputId": "d5c6c3c0-7146-4e74-a7ff-eb5a987bd7ec"
      },
      "execution_count": null,
      "outputs": [
        {
          "output_type": "stream",
          "name": "stdout",
          "text": [
            "RSS of f: 40376.57222825893\n",
            "RSS of g: 40375.27997682827\n"
          ]
        }
      ]
    },
    {
      "cell_type": "code",
      "source": [
        "alpha = 0.05\n",
        "def Ftest(ssr_1, ssr_2, ndof_1, ndof_2, nbins, verbose=False):\n",
        "    F = ((ssr_1 - ssr_2)/(ndof_2 - ndof_1)) / (ssr_2/(nbins - ndof_2))\n",
        "    pval = 1. - stats.f.cdf(F, ndof_2 - ndof_1, nbins - ndof_2)\n",
        "    if verbose: print(\"p-value: %.3f\" % pval, \", additional parameter necessary:\", \"YES\" if pval < alpha else \"NO\")\n",
        "    return pval\n",
        "\n",
        "ndof_f = 3 - 1\n",
        "ndof_g = 4 - 1\n",
        "\n",
        "pval_f_vs_g = Ftest(ssr_f, ssr_g, ndof_f, ndof_g, len(temp_2008_2012), verbose=True)"
      ],
      "metadata": {
        "colab": {
          "base_uri": "https://localhost:8080/"
        },
        "id": "SsqW9IVUdVzP",
        "outputId": "ffc58fdf-1bb8-4cbe-86a4-f560e5fc6827"
      },
      "execution_count": null,
      "outputs": [
        {
          "output_type": "stream",
          "name": "stdout",
          "text": [
            "p-value: 0.809 , additional parameter necessary: NO\n"
          ]
        }
      ]
    },
    {
      "cell_type": "markdown",
      "source": [
        "==> We don't need the additional parameter"
      ],
      "metadata": {
        "id": "ebL389bv1atT"
      }
    },
    {
      "cell_type": "code",
      "source": [],
      "metadata": {
        "id": "ajNqYcuxd67V"
      },
      "execution_count": null,
      "outputs": []
    }
  ],
  "metadata": {
    "kernelspec": {
      "display_name": "Python 3",
      "language": "python",
      "name": "python3"
    },
    "language_info": {
      "codemirror_mode": {
        "name": "ipython",
        "version": 3
      },
      "file_extension": ".py",
      "mimetype": "text/x-python",
      "name": "python",
      "nbconvert_exporter": "python",
      "pygments_lexer": "ipython3",
      "version": "3.8.5"
    },
    "colab": {
      "provenance": []
    }
  },
  "nbformat": 4,
  "nbformat_minor": 0
}